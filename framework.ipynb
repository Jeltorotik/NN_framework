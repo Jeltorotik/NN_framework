{
 "cells": [
  {
   "cell_type": "code",
   "execution_count": 1,
   "metadata": {},
   "outputs": [],
   "source": [
    "import numpy as np"
   ]
  },
  {
   "cell_type": "code",
   "execution_count": 2,
   "metadata": {},
   "outputs": [],
   "source": [
    "class Module():\n",
    "    def __init__(self):\n",
    "        self._train = True\n",
    "    \n",
    "    def forward(self, input):\n",
    "        raise NotImplementedError\n",
    "\n",
    "    def backward(self,input, grad_output):\n",
    "        raise NotImplementedError\n",
    "    \n",
    "    def parameters(self):\n",
    "        return []\n",
    "    \n",
    "    def grad_parameters(self):\n",
    "        return []\n",
    "    \n",
    "    def train(self):\n",
    "        self._train = True\n",
    "    \n",
    "    def eval(self):\n",
    "        self._train = False"
   ]
  },
  {
   "cell_type": "code",
   "execution_count": 3,
   "metadata": {},
   "outputs": [],
   "source": [
    "class Sequential(Module):\n",
    "    def __init__ (self, *layers):\n",
    "        super().__init__()\n",
    "        self.layers = layers\n",
    "\n",
    "    def forward(self, input):\n",
    "\n",
    "        for layer in self.layers:\n",
    "            input = layer.forward(input)\n",
    "\n",
    "        self.output = input\n",
    "        return self.output\n",
    "\n",
    "    def backward(self, input, grad_output):\n",
    "        \n",
    "        for i in range(len(self.layers)-1, 0, -1):\n",
    "            grad_output = self.layers[i].backward(self.layers[i-1].output, grad_output)\n",
    "        \n",
    "        grad_input = self.layers[0].backward(input, grad_output)\n",
    "        \n",
    "        return grad_input\n",
    "      \n",
    "    def parameters(self):\n",
    "        res = []\n",
    "        for l in self.layers:\n",
    "            res += l.parameters()\n",
    "        return res\n",
    "    \n",
    "    def grad_parameters(self):\n",
    "        res = []\n",
    "        for l in self.layers:\n",
    "            res += l.grad_parameters()\n",
    "        return res\n",
    "    \n",
    "    def train(self):\n",
    "        for layer in self.layers:\n",
    "            layer.train()\n",
    "    \n",
    "    def eval(self):\n",
    "        for layer in self.layers:\n",
    "            layer.eval()"
   ]
  },
  {
   "cell_type": "code",
   "execution_count": 4,
   "metadata": {},
   "outputs": [],
   "source": [
    "class Linear(Module):\n",
    "    def __init__(self, dim_in, dim_out):\n",
    "        super().__init__()\n",
    "        \n",
    "        stdv = 1./np.sqrt(dim_in)\n",
    "        self.W = np.random.uniform(-stdv, stdv, size=(dim_in, dim_out))\n",
    "        self.b = np.random.uniform(-stdv, stdv, size=dim_out)\n",
    "        \n",
    "        \n",
    "    def forward(self, input):\n",
    "        \n",
    "        self.output = np.dot(input, self.W) + self.b\n",
    "        \n",
    "        return self.output\n",
    "    \n",
    "    \n",
    "    def backward(self, input, grad_output):\n",
    "        \n",
    "        self.grad_b = np.mean(grad_output, axis=0)\n",
    "        \n",
    "        self.grad_W = np.dot(input.T, grad_output)\n",
    "        \n",
    "        grad_input = np.dot(grad_output, self.W.T)\n",
    "        \n",
    "        return grad_input\n",
    "    \n",
    "    def parameters(self):\n",
    "        return [self.W, self.b]\n",
    "    \n",
    "    def grad_parameters(self):\n",
    "        return [self.grad_W, self.grad_b]"
   ]
  },
  {
   "cell_type": "markdown",
   "metadata": {},
   "source": [
    "# Activation functions"
   ]
  },
  {
   "cell_type": "markdown",
   "metadata": {},
   "source": [
    "**ReLU**"
   ]
  },
  {
   "cell_type": "code",
   "execution_count": 5,
   "metadata": {},
   "outputs": [],
   "source": [
    "class ReLU(Module):\n",
    "    def __init__(self):\n",
    "         super().__init__()\n",
    "    \n",
    "    def forward(self, input):\n",
    "        self.output = np.maximum(input, 0)\n",
    "        return self.output\n",
    "    \n",
    "    def backward(self, input, grad_output):\n",
    "        grad_input = np.multiply(grad_output, input > 0)\n",
    "        return grad_input"
   ]
  },
  {
   "cell_type": "markdown",
   "metadata": {},
   "source": [
    "**LeakyReLU**"
   ]
  },
  {
   "cell_type": "code",
   "execution_count": 6,
   "metadata": {},
   "outputs": [],
   "source": [
    "class LeakyReLU(Module):\n",
    "    def __init__(self, slope=0.03):\n",
    "        super().__init__()\n",
    "            \n",
    "        self.slope = slope\n",
    "        \n",
    "    def forward(self, input):\n",
    "        self.output = (input > 0) * input + (input <= 0) * input * self.slope\n",
    "        return self.output\n",
    "    \n",
    "    def backward(self, input, grad_output):\n",
    "        \n",
    "        grad_input = grad_output * (input > 0) + (input <= 0) * grad_output * self.slope\n",
    "      \n",
    "        return grad_input"
   ]
  },
  {
   "cell_type": "markdown",
   "metadata": {},
   "source": [
    "**Sigmoid**"
   ]
  },
  {
   "cell_type": "code",
   "execution_count": 7,
   "metadata": {},
   "outputs": [],
   "source": [
    "class Sigmoid(Module):\n",
    "    def __init__(self, slope=0.03):\n",
    "        super().__init__()\n",
    "\n",
    "    def forward(self, input):\n",
    "        \n",
    "        self.output = 1. / (1. + np.exp(-input))\n",
    "        \n",
    "        return self.output\n",
    "    \n",
    "    def backward(self, input, grad_output):\n",
    "        \n",
    "        grad_input = grad_output * (1. - grad_output)\n",
    "        \n",
    "        return grad_input"
   ]
  },
  {
   "cell_type": "markdown",
   "metadata": {},
   "source": [
    "**SoftMax**"
   ]
  },
  {
   "cell_type": "code",
   "execution_count": 8,
   "metadata": {},
   "outputs": [],
   "source": [
    "class SoftMax(Module):\n",
    "    def __init__(self):\n",
    "         super().__init__()\n",
    "    \n",
    "    def forward(self, input):\n",
    "        self.output = np.exp(np.subtract(input, input.max(axis=1, keepdims=True)))\n",
    "        self.output = self.output / np.sum(self.output, axis = 1, keepdims = True)\n",
    "        return self.output\n",
    "    \n",
    "    def backward(self, input, grad_output):\n",
    "        grad_input = []\n",
    "        for k in range(grad_output.shape[0]):\n",
    "            grad_input.append(np.sum(np.diagflat(grad_output[k]) - np.dot(grad_output[k], grad_output[k].T), axis = 1))\n",
    "        \n",
    "        return grad_input"
   ]
  },
  {
   "cell_type": "markdown",
   "metadata": {},
   "source": [
    "# Regularization"
   ]
  },
  {
   "cell_type": "markdown",
   "metadata": {},
   "source": [
    "**Dropout**"
   ]
  },
  {
   "cell_type": "code",
   "execution_count": 9,
   "metadata": {},
   "outputs": [],
   "source": [
    "class Dropout(Module):\n",
    "    def __init__(self, p=0.5):\n",
    "        super().__init__()\n",
    "        \n",
    "        self.p = p\n",
    "        self.mask = None\n",
    "        \n",
    "    def forward(self, input):\n",
    "        if self._train:\n",
    "            self.mask = np.random.binomial(1, 1-self.p, size = input.shape) / self.p\n",
    "            self.output = self.mask * input\n",
    "        else:\n",
    "            self.output = input\n",
    "        return self.output\n",
    "    \n",
    "    def backward(self, input, grad_output):\n",
    "        if self._train:\n",
    "            grad_input = self.mask * grad_output\n",
    "        else:\n",
    "            grad_input = grad_output\n",
    "        return grad_input"
   ]
  },
  {
   "cell_type": "markdown",
   "metadata": {},
   "source": [
    "**BatchNorm**"
   ]
  },
  {
   "cell_type": "code",
   "execution_count": 10,
   "metadata": {},
   "outputs": [],
   "source": [
    "class BatchNorm(Module):\n",
    "    def __init__(self, num_features, gamma):\n",
    "        super().__init__()\n",
    "        self.gamma = gamma\n",
    "        \n",
    "    def forward(self, input):\n",
    "        if self._train:\n",
    "            self.mu = np.mean(input, axis = 1, keepdims=True)\n",
    "            self.sigma = np.var(input, axis = 1, keepdims=True)\n",
    "            input_norm = (input - self.mu) / np.sqrt(self.sigma + 1e-8)\n",
    "            self.output = self.gamma * input_norm \n",
    "        else:\n",
    "            self.output = input\n",
    "        return self.output\n",
    "    \n",
    "    def backward(self, input, grad_output):\n",
    "        if self._train:\n",
    "            n, d = input.shape\n",
    "            input_mu = input - self.mu\n",
    "            std_inv = 1. / np.sqrt(self.sigma + 1e-8)\n",
    "            \n",
    "            grad_input_norm = grad_output * self.gamma\n",
    "            grad_sigma = np.sum(grad_input_norm * input_mu, axis = 0) * -.5 * std_inv**3\n",
    "            grad_mu = np.sum(grad_input_norm * -std_inv, axis = 0) + grad_sigma * np.mean(-2. * input_mu, axis = 0)\n",
    "            \n",
    "            grad_input = (grad_input_norm * std_inv) + (grad_sigma * 2 * input_mu / n) + (grad_mu / n)\n",
    "            grad_gamma = np.sum(grad_output * input, axis = 0)\n",
    "        else:\n",
    "            grad_input = grad_output\n",
    "            \n",
    "        return grad_input"
   ]
  },
  {
   "cell_type": "markdown",
   "metadata": {},
   "source": [
    "# Loss functions"
   ]
  },
  {
   "cell_type": "code",
   "execution_count": 11,
   "metadata": {},
   "outputs": [],
   "source": [
    "class Criterion():        \n",
    "    def forward(self, input, target):\n",
    "        raise NotImplementedError\n",
    "\n",
    "    def backward(self, input, target):\n",
    "        raise NotImplementedError"
   ]
  },
  {
   "cell_type": "markdown",
   "metadata": {},
   "source": [
    "**MSE**"
   ]
  },
  {
   "cell_type": "code",
   "execution_count": 12,
   "metadata": {},
   "outputs": [],
   "source": [
    "class MSE(Criterion):\n",
    "    def forward(self, input, target):\n",
    "        batch_size = input.shape[0]\n",
    "        self.output = np.sum(np.power(input - target.reshape(input.shape), 2)) / batch_size\n",
    "        return self.output\n",
    " \n",
    "    def backward(self, input, target):\n",
    "        grad_input  = (input - target.reshape(input.shape)) * 2 / input.shape[0]\n",
    "        return grad_input"
   ]
  },
  {
   "cell_type": "markdown",
   "metadata": {},
   "source": [
    "**CrossEntropy**"
   ]
  },
  {
   "cell_type": "code",
   "execution_count": 13,
   "metadata": {},
   "outputs": [],
   "source": [
    "class CrossEntropy(Criterion):\n",
    "    def __init__(self):\n",
    "        super().__init__()\n",
    "        \n",
    "    def forward(self, input, target): \n",
    "        # чтобы нигде не было взятий логарифма от нуля:\n",
    "        eps = 1e-9\n",
    "        input_clamp = np.clip(input, eps, 1 - eps)\n",
    "        \n",
    "        m = target.shape\n",
    "        \n",
    "        log_likelihood = -np.log(input_clamp[range(m[0]), np.where(target == 1)[1]])\n",
    "        self.output = log_likelihood / m[1]\n",
    "        \n",
    "        return self.output\n",
    "\n",
    "    def backward(self, input, target):\n",
    "        eps = 1e-9\n",
    "        input_clamp = np.clip(input, eps, 1 - eps)\n",
    "        \n",
    "        m = target.shape\n",
    "        grad_input = input_clamp\n",
    "        grad_input[range(m[0]), np.where(target == 1)[1]] -= 1\n",
    "        grad_input /= m[1]\n",
    "        \n",
    "        return grad_input"
   ]
  }
 ],
 "metadata": {
  "kernelspec": {
   "display_name": "Python 3",
   "language": "python",
   "name": "python3"
  },
  "language_info": {
   "codemirror_mode": {
    "name": "ipython",
    "version": 3
   },
   "file_extension": ".py",
   "mimetype": "text/x-python",
   "name": "python",
   "nbconvert_exporter": "python",
   "pygments_lexer": "ipython3",
   "version": "3.7.1"
  }
 },
 "nbformat": 4,
 "nbformat_minor": 2
}
